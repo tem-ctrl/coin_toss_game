{
 "cells": [
  {
   "cell_type": "markdown",
   "id": "d3ac6a64",
   "metadata": {},
   "source": [
    "# Simple coin toss game"
   ]
  },
  {
   "cell_type": "code",
   "execution_count": 1,
   "id": "ae0c5794",
   "metadata": {},
   "outputs": [],
   "source": [
    "import random\n",
    "random.seed(2021) # comment this line to make the game completely random\n",
    "\n",
    "# Play function\n",
    "def play(pred):\n",
    "          \n",
    "    # Convert prediction into a binary list with 'Tails' = 0, 'Heads' = 1\n",
    "    pred = [1 if i == 'H' else 0 for i in pred]\n",
    "    \n",
    "    # coin flip simulation\n",
    "    def flip():\n",
    "        return random.randint(0,2)\n",
    "\n",
    "    computer = [int(not pred[1]), pred[0], pred[0]]\n",
    "    outcome = []\n",
    "\n",
    "    while outcome[-3:] != computer and outcome[-3:] != pred:\n",
    "        outcome.append(flip())\n",
    "\n",
    "    if outcome[-3:] == pred:\n",
    "        winner = 'Congratulations, you won after '+  str(len(outcome)) + ' flips!'\n",
    "    else:\n",
    "        winner = 'Computer won after ' +  str(len(outcome)) + ' flips!'\n",
    "    print(winner)\n",
    "    return"
   ]
  },
  {
   "cell_type": "code",
   "execution_count": 2,
   "id": "4fe78c4d",
   "metadata": {},
   "outputs": [],
   "source": [
    "# error handling\n",
    "def check(x):\n",
    "    if len(x) != 3:\n",
    "        return False\n",
    "    check = []\n",
    "    for i in x:\n",
    "        check.append(i in ['t', 'T', 'h', 'H'])\n",
    "    return check[0] and check[1] and check[2] and len(x)==3"
   ]
  },
  {
   "cell_type": "code",
   "execution_count": null,
   "id": "6116d937",
   "metadata": {},
   "outputs": [],
   "source": [
    "# Main loop\n",
    "replay = True\n",
    "while replay == True:\n",
    "    pred = input('\\nEnter your prediction in the shape \"XXX\" where X is either T or H\\n')\n",
    "    \n",
    "    if not check(pred):\n",
    "        raise ValueError('Input must be of shape \"XXX\" where X is either T or H either lower or uppercase\\n')\n",
    "        break\n",
    "        \n",
    "    play(pred)\n",
    "        \n",
    "    repeat = ''\n",
    "    while (repeat not in ['y', 'Y'] and repeat not in ['q', 'Q']):\n",
    "        repeat = input('\\nPress y to play again or q to quit\\n')\n",
    "        \n",
    "        if repeat in ['q', 'Q']:\n",
    "            print(\"Thanks for playing \\nGood Bye!!!\")\n",
    "        replay = repeat in ['y', 'Y']"
   ]
  }
 ],
 "metadata": {
  "kernelspec": {
   "display_name": "Python 3",
   "language": "python",
   "name": "python3"
  },
  "language_info": {
   "codemirror_mode": {
    "name": "ipython",
    "version": 3
   },
   "file_extension": ".py",
   "mimetype": "text/x-python",
   "name": "python",
   "nbconvert_exporter": "python",
   "pygments_lexer": "ipython3",
   "version": "3.8.8"
  }
 },
 "nbformat": 4,
 "nbformat_minor": 5
}
