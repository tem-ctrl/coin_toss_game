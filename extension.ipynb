{
 "cells": [
  {
   "cell_type": "code",
   "execution_count": 1,
   "id": "af35e80a",
   "metadata": {},
   "outputs": [],
   "source": [
    "import numpy as np\n",
    "np.random.seed(2021) # ensure experiment reproducibility\n",
    "# 'Tails' = 0, 'Heads' = 1\n",
    "def play(alice = ['h', 'h', 'h']):\n",
    "    alice = [1 if i == 'h' else 0 for i in alice]\n",
    "    def flip():\n",
    "        return np.random.randint(0,2)\n",
    "    \n",
    "    bob = [int(not alice[2]), alice[0], alice[0]]\n",
    "    outcome = []\n",
    "    \n",
    "    while outcome[-3:] != alice and outcome[-3:] != bob:\n",
    "        outcome.append(flip())\n",
    "    \n",
    "    if outcome[-3:] == alice:\n",
    "        return 'Alice'\n",
    "    else:\n",
    "        return 'Bob'"
   ]
  },
  {
   "cell_type": "code",
   "execution_count": 2,
   "id": "4062c0b9",
   "metadata": {},
   "outputs": [],
   "source": [
    "all_alice = [[0,0,0], [0,0,1], [0,1,0], [0,1,1], [1,0,0], [1,0,1], [1,1,0], [1,1,1]]\n",
    "bob_odds = []\n",
    "for alice in all_alice:\n",
    "    game = []\n",
    "    for _ in range(10000):\n",
    "        game.append(play(alice=alice))\n",
    "    bob_odds.append(game.count('Bob')/len(game))\n"
   ]
  },
  {
   "cell_type": "code",
   "execution_count": 4,
   "id": "b4500517",
   "metadata": {},
   "outputs": [
    {
     "name": "stdout",
     "output_type": "stream",
     "text": [
      "Bob's odds of winning : 0.8756875\n",
      "Alice's : 0.12431250000000005\n"
     ]
    }
   ],
   "source": [
    "print(f\"Bob's odds of winning : {np.average(bob_odds)}\\nAlice's : {1 - np.average(bob_odds)}\")"
   ]
  },
  {
   "cell_type": "code",
   "execution_count": null,
   "id": "a33fae05",
   "metadata": {},
   "outputs": [],
   "source": []
  }
 ],
 "metadata": {
  "kernelspec": {
   "display_name": "Python 3",
   "language": "python",
   "name": "python3"
  },
  "language_info": {
   "codemirror_mode": {
    "name": "ipython",
    "version": 3
   },
   "file_extension": ".py",
   "mimetype": "text/x-python",
   "name": "python",
   "nbconvert_exporter": "python",
   "pygments_lexer": "ipython3",
   "version": "3.8.8"
  }
 },
 "nbformat": 4,
 "nbformat_minor": 5
}
